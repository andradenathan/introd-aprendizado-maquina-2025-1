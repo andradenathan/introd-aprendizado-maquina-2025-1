{
  "nbformat": 4,
  "nbformat_minor": 0,
  "metadata": {
    "colab": {
      "provenance": []
    },
    "kernelspec": {
      "name": "python3",
      "display_name": "Python 3"
    },
    "language_info": {
      "name": "python"
    }
  },
  "cells": [
    {
      "cell_type": "code",
      "source": [
        "import numpy as np\n",
        "import pandas as pd\n",
        "import seaborn as sns"
      ],
      "metadata": {
        "id": "fBjzI0QaKL_D"
      },
      "execution_count": 269,
      "outputs": []
    },
    {
      "cell_type": "markdown",
      "source": [
        "# Código 1)\n",
        "\n",
        "Aqui estamos fazendo o aumento do conjunto de treinamento e estamos implementando a função da distância de manhattan.\n",
        "\n",
        "Para comparar o uso das duas distâncias, iremos utilizar a função do **kfold_cross_validation** visto na última aula e implementada para realizar a etapa 2 das observações propostas pelo relatório."
      ],
      "metadata": {
        "id": "l-x7XRLrHpC7"
      }
    },
    {
      "cell_type": "code",
      "execution_count": 270,
      "metadata": {
        "id": "Xfitr_bbSroz"
      },
      "outputs": [],
      "source": [
        "treino = [\n",
        "    ([1, 2], 0),\n",
        "    ([2, 3], 0),\n",
        "    ([3, 3], 0),\n",
        "    ([5, 4], 0),\n",
        "    ([6, 5], 1),\n",
        "    ([7, 7], 1),\n",
        "    ([8, 6], 1),\n",
        "    ([9, 9], 2),\n",
        "    ([10, 10], 2),\n",
        "    ([13, 11], 2),\n",
        "    ([12, 13], 2),\n",
        "    ([20, 19], 3),\n",
        "    ([23, 20], 3),\n",
        "    ([28, 22], 3),\n",
        "    ([25, 21], 3),\n",
        "]\n",
        "\n",
        "def calcular_distancia_euclides(p1, p2):\n",
        "  return ((p1[0] - p2[0])**2 + (p1[1] - p2[1])**2)**0.5\n",
        "\n",
        "def calcular_distancia_manhattan(p1, p2):\n",
        "  return abs(p1[0] - p2[0]) + abs(p1[1] - p2[1])"
      ]
    },
    {
      "cell_type": "markdown",
      "source": [
        "Para fazer a comparação do uso das duas distâncias, nós usaremos o **Kfold Cross Validation** para calcular a acurácia utilizando as duas funções, com distâncias diferentes para o mesmo dataset."
      ],
      "metadata": {
        "id": "3RCOPGYNH81q"
      }
    },
    {
      "cell_type": "code",
      "source": [
        "X = np.array([ponto for ponto, _ in treino])\n",
        "y = np.array([classe for _, classe in treino])"
      ],
      "metadata": {
        "id": "IBVo6vRTKECm"
      },
      "execution_count": 271,
      "outputs": []
    },
    {
      "cell_type": "code",
      "source": [
        "def knn(novo_ponto, treino, k = 3, distancia_fn = \"euclides\"):\n",
        "  distancias = []\n",
        "  for ponto, classe in treino:\n",
        "    if distancia_fn == \"euclides\":\n",
        "      distancia = calcular_distancia_euclides(novo_ponto, ponto)\n",
        "    elif distancia_fn == \"manhattan\":\n",
        "      distancia = calcular_distancia_manhattan(novo_ponto, ponto)\n",
        "    else:\n",
        "      raise ValueError(\"Função de distância inválida\")\n",
        "\n",
        "    distancias.append((distancia, classe))\n",
        "\n",
        "  distancias.sort(key = lambda x: x[0])\n",
        "  k_vizinhos = distancias[:k]\n",
        "\n",
        "  contagem = {}\n",
        "\n",
        "  for _, classe in k_vizinhos:\n",
        "    if classe not in contagem:\n",
        "      contagem[classe] = 0\n",
        "    contagem[classe] += 1\n",
        "\n",
        "  return max(contagem, key = contagem.get)\n",
        "\n",
        "def k_fold_cross_validation_with_distance(X, y, k_folds=10, k_neighbors=5, distancia_fn = \"euclides\"):\n",
        "    n = len(X)\n",
        "    fold_size = n // k_folds\n",
        "    indices = np.arange(n)\n",
        "    np.random.shuffle(indices)\n",
        "\n",
        "    scores = []\n",
        "    for fold in range(k_folds):\n",
        "        start = fold * fold_size\n",
        "        end   = (fold + 1) * fold_size if fold < k_folds - 1 else n\n",
        "\n",
        "        val_idx   = indices[start:end]\n",
        "        train_idx = np.concatenate([indices[:start], indices[end:]])\n",
        "\n",
        "        X_train, y_train = X[train_idx], y[train_idx]\n",
        "        X_val,   y_val   = X[val_idx],   y[val_idx]\n",
        "\n",
        "        treino_fold = list(zip(X_train.tolist(), y_train.tolist()))\n",
        "        correct = 0\n",
        "        for xi, yi in zip(X_val, y_val):\n",
        "            pred = knn(xi.tolist(),\n",
        "                       treino_fold,\n",
        "                       k_neighbors,\n",
        "                       distancia_fn)\n",
        "            if pred == yi:\n",
        "                correct += 1\n",
        "\n",
        "        acc = correct / len(X_val)\n",
        "        scores.append(acc)\n",
        "\n",
        "    return scores"
      ],
      "metadata": {
        "id": "Ekvg1A5RIS8J"
      },
      "execution_count": 272,
      "outputs": []
    },
    {
      "cell_type": "code",
      "source": [
        "distances = [\"euclides\", \"manhattan\"]\n",
        "results = []\n",
        "\n",
        "for dist in distances:\n",
        "    scores = k_fold_cross_validation_with_distance(\n",
        "        X, y,\n",
        "        k_folds=10,\n",
        "        k_neighbors=4,\n",
        "        distancia_fn=dist\n",
        "    )\n",
        "\n",
        "    results.append({\n",
        "        \"distancia\":    dist,\n",
        "        \"mean_accuracy\": np.mean(scores),\n",
        "        \"std_accuracy\":  np.std(scores)\n",
        "    })\n",
        "\n",
        "pd.DataFrame(results)"
      ],
      "metadata": {
        "colab": {
          "base_uri": "https://localhost:8080/",
          "height": 112
        },
        "id": "ITm0_ownT_XA",
        "outputId": "7f6caefe-8085-46ca-cf04-0b48054d8118"
      },
      "execution_count": 273,
      "outputs": [
        {
          "output_type": "execute_result",
          "data": {
            "text/plain": [
              "   distancia  mean_accuracy  std_accuracy\n",
              "0   euclides       0.733333      0.416333\n",
              "1  manhattan       0.966667      0.100000"
            ],
            "text/html": [
              "\n",
              "  <div id=\"df-881ec9f1-afa9-4465-81cc-717d9cc30c7b\" class=\"colab-df-container\">\n",
              "    <div>\n",
              "<style scoped>\n",
              "    .dataframe tbody tr th:only-of-type {\n",
              "        vertical-align: middle;\n",
              "    }\n",
              "\n",
              "    .dataframe tbody tr th {\n",
              "        vertical-align: top;\n",
              "    }\n",
              "\n",
              "    .dataframe thead th {\n",
              "        text-align: right;\n",
              "    }\n",
              "</style>\n",
              "<table border=\"1\" class=\"dataframe\">\n",
              "  <thead>\n",
              "    <tr style=\"text-align: right;\">\n",
              "      <th></th>\n",
              "      <th>distancia</th>\n",
              "      <th>mean_accuracy</th>\n",
              "      <th>std_accuracy</th>\n",
              "    </tr>\n",
              "  </thead>\n",
              "  <tbody>\n",
              "    <tr>\n",
              "      <th>0</th>\n",
              "      <td>euclides</td>\n",
              "      <td>0.733333</td>\n",
              "      <td>0.416333</td>\n",
              "    </tr>\n",
              "    <tr>\n",
              "      <th>1</th>\n",
              "      <td>manhattan</td>\n",
              "      <td>0.966667</td>\n",
              "      <td>0.100000</td>\n",
              "    </tr>\n",
              "  </tbody>\n",
              "</table>\n",
              "</div>\n",
              "    <div class=\"colab-df-buttons\">\n",
              "\n",
              "  <div class=\"colab-df-container\">\n",
              "    <button class=\"colab-df-convert\" onclick=\"convertToInteractive('df-881ec9f1-afa9-4465-81cc-717d9cc30c7b')\"\n",
              "            title=\"Convert this dataframe to an interactive table.\"\n",
              "            style=\"display:none;\">\n",
              "\n",
              "  <svg xmlns=\"http://www.w3.org/2000/svg\" height=\"24px\" viewBox=\"0 -960 960 960\">\n",
              "    <path d=\"M120-120v-720h720v720H120Zm60-500h600v-160H180v160Zm220 220h160v-160H400v160Zm0 220h160v-160H400v160ZM180-400h160v-160H180v160Zm440 0h160v-160H620v160ZM180-180h160v-160H180v160Zm440 0h160v-160H620v160Z\"/>\n",
              "  </svg>\n",
              "    </button>\n",
              "\n",
              "  <style>\n",
              "    .colab-df-container {\n",
              "      display:flex;\n",
              "      gap: 12px;\n",
              "    }\n",
              "\n",
              "    .colab-df-convert {\n",
              "      background-color: #E8F0FE;\n",
              "      border: none;\n",
              "      border-radius: 50%;\n",
              "      cursor: pointer;\n",
              "      display: none;\n",
              "      fill: #1967D2;\n",
              "      height: 32px;\n",
              "      padding: 0 0 0 0;\n",
              "      width: 32px;\n",
              "    }\n",
              "\n",
              "    .colab-df-convert:hover {\n",
              "      background-color: #E2EBFA;\n",
              "      box-shadow: 0px 1px 2px rgba(60, 64, 67, 0.3), 0px 1px 3px 1px rgba(60, 64, 67, 0.15);\n",
              "      fill: #174EA6;\n",
              "    }\n",
              "\n",
              "    .colab-df-buttons div {\n",
              "      margin-bottom: 4px;\n",
              "    }\n",
              "\n",
              "    [theme=dark] .colab-df-convert {\n",
              "      background-color: #3B4455;\n",
              "      fill: #D2E3FC;\n",
              "    }\n",
              "\n",
              "    [theme=dark] .colab-df-convert:hover {\n",
              "      background-color: #434B5C;\n",
              "      box-shadow: 0px 1px 3px 1px rgba(0, 0, 0, 0.15);\n",
              "      filter: drop-shadow(0px 1px 2px rgba(0, 0, 0, 0.3));\n",
              "      fill: #FFFFFF;\n",
              "    }\n",
              "  </style>\n",
              "\n",
              "    <script>\n",
              "      const buttonEl =\n",
              "        document.querySelector('#df-881ec9f1-afa9-4465-81cc-717d9cc30c7b button.colab-df-convert');\n",
              "      buttonEl.style.display =\n",
              "        google.colab.kernel.accessAllowed ? 'block' : 'none';\n",
              "\n",
              "      async function convertToInteractive(key) {\n",
              "        const element = document.querySelector('#df-881ec9f1-afa9-4465-81cc-717d9cc30c7b');\n",
              "        const dataTable =\n",
              "          await google.colab.kernel.invokeFunction('convertToInteractive',\n",
              "                                                    [key], {});\n",
              "        if (!dataTable) return;\n",
              "\n",
              "        const docLinkHtml = 'Like what you see? Visit the ' +\n",
              "          '<a target=\"_blank\" href=https://colab.research.google.com/notebooks/data_table.ipynb>data table notebook</a>'\n",
              "          + ' to learn more about interactive tables.';\n",
              "        element.innerHTML = '';\n",
              "        dataTable['output_type'] = 'display_data';\n",
              "        await google.colab.output.renderOutput(dataTable, element);\n",
              "        const docLink = document.createElement('div');\n",
              "        docLink.innerHTML = docLinkHtml;\n",
              "        element.appendChild(docLink);\n",
              "      }\n",
              "    </script>\n",
              "  </div>\n",
              "\n",
              "\n",
              "<div id=\"df-52821fc0-50f0-4e6a-ac60-bc01e636f4cc\">\n",
              "  <button class=\"colab-df-quickchart\" onclick=\"quickchart('df-52821fc0-50f0-4e6a-ac60-bc01e636f4cc')\"\n",
              "            title=\"Suggest charts\"\n",
              "            style=\"display:none;\">\n",
              "\n",
              "<svg xmlns=\"http://www.w3.org/2000/svg\" height=\"24px\"viewBox=\"0 0 24 24\"\n",
              "     width=\"24px\">\n",
              "    <g>\n",
              "        <path d=\"M19 3H5c-1.1 0-2 .9-2 2v14c0 1.1.9 2 2 2h14c1.1 0 2-.9 2-2V5c0-1.1-.9-2-2-2zM9 17H7v-7h2v7zm4 0h-2V7h2v10zm4 0h-2v-4h2v4z\"/>\n",
              "    </g>\n",
              "</svg>\n",
              "  </button>\n",
              "\n",
              "<style>\n",
              "  .colab-df-quickchart {\n",
              "      --bg-color: #E8F0FE;\n",
              "      --fill-color: #1967D2;\n",
              "      --hover-bg-color: #E2EBFA;\n",
              "      --hover-fill-color: #174EA6;\n",
              "      --disabled-fill-color: #AAA;\n",
              "      --disabled-bg-color: #DDD;\n",
              "  }\n",
              "\n",
              "  [theme=dark] .colab-df-quickchart {\n",
              "      --bg-color: #3B4455;\n",
              "      --fill-color: #D2E3FC;\n",
              "      --hover-bg-color: #434B5C;\n",
              "      --hover-fill-color: #FFFFFF;\n",
              "      --disabled-bg-color: #3B4455;\n",
              "      --disabled-fill-color: #666;\n",
              "  }\n",
              "\n",
              "  .colab-df-quickchart {\n",
              "    background-color: var(--bg-color);\n",
              "    border: none;\n",
              "    border-radius: 50%;\n",
              "    cursor: pointer;\n",
              "    display: none;\n",
              "    fill: var(--fill-color);\n",
              "    height: 32px;\n",
              "    padding: 0;\n",
              "    width: 32px;\n",
              "  }\n",
              "\n",
              "  .colab-df-quickchart:hover {\n",
              "    background-color: var(--hover-bg-color);\n",
              "    box-shadow: 0 1px 2px rgba(60, 64, 67, 0.3), 0 1px 3px 1px rgba(60, 64, 67, 0.15);\n",
              "    fill: var(--button-hover-fill-color);\n",
              "  }\n",
              "\n",
              "  .colab-df-quickchart-complete:disabled,\n",
              "  .colab-df-quickchart-complete:disabled:hover {\n",
              "    background-color: var(--disabled-bg-color);\n",
              "    fill: var(--disabled-fill-color);\n",
              "    box-shadow: none;\n",
              "  }\n",
              "\n",
              "  .colab-df-spinner {\n",
              "    border: 2px solid var(--fill-color);\n",
              "    border-color: transparent;\n",
              "    border-bottom-color: var(--fill-color);\n",
              "    animation:\n",
              "      spin 1s steps(1) infinite;\n",
              "  }\n",
              "\n",
              "  @keyframes spin {\n",
              "    0% {\n",
              "      border-color: transparent;\n",
              "      border-bottom-color: var(--fill-color);\n",
              "      border-left-color: var(--fill-color);\n",
              "    }\n",
              "    20% {\n",
              "      border-color: transparent;\n",
              "      border-left-color: var(--fill-color);\n",
              "      border-top-color: var(--fill-color);\n",
              "    }\n",
              "    30% {\n",
              "      border-color: transparent;\n",
              "      border-left-color: var(--fill-color);\n",
              "      border-top-color: var(--fill-color);\n",
              "      border-right-color: var(--fill-color);\n",
              "    }\n",
              "    40% {\n",
              "      border-color: transparent;\n",
              "      border-right-color: var(--fill-color);\n",
              "      border-top-color: var(--fill-color);\n",
              "    }\n",
              "    60% {\n",
              "      border-color: transparent;\n",
              "      border-right-color: var(--fill-color);\n",
              "    }\n",
              "    80% {\n",
              "      border-color: transparent;\n",
              "      border-right-color: var(--fill-color);\n",
              "      border-bottom-color: var(--fill-color);\n",
              "    }\n",
              "    90% {\n",
              "      border-color: transparent;\n",
              "      border-bottom-color: var(--fill-color);\n",
              "    }\n",
              "  }\n",
              "</style>\n",
              "\n",
              "  <script>\n",
              "    async function quickchart(key) {\n",
              "      const quickchartButtonEl =\n",
              "        document.querySelector('#' + key + ' button');\n",
              "      quickchartButtonEl.disabled = true;  // To prevent multiple clicks.\n",
              "      quickchartButtonEl.classList.add('colab-df-spinner');\n",
              "      try {\n",
              "        const charts = await google.colab.kernel.invokeFunction(\n",
              "            'suggestCharts', [key], {});\n",
              "      } catch (error) {\n",
              "        console.error('Error during call to suggestCharts:', error);\n",
              "      }\n",
              "      quickchartButtonEl.classList.remove('colab-df-spinner');\n",
              "      quickchartButtonEl.classList.add('colab-df-quickchart-complete');\n",
              "    }\n",
              "    (() => {\n",
              "      let quickchartButtonEl =\n",
              "        document.querySelector('#df-52821fc0-50f0-4e6a-ac60-bc01e636f4cc button');\n",
              "      quickchartButtonEl.style.display =\n",
              "        google.colab.kernel.accessAllowed ? 'block' : 'none';\n",
              "    })();\n",
              "  </script>\n",
              "</div>\n",
              "\n",
              "    </div>\n",
              "  </div>\n"
            ],
            "application/vnd.google.colaboratory.intrinsic+json": {
              "type": "dataframe",
              "summary": "{\n  \"name\": \"pd\",\n  \"rows\": 2,\n  \"fields\": [\n    {\n      \"column\": \"distancia\",\n      \"properties\": {\n        \"dtype\": \"string\",\n        \"num_unique_values\": 2,\n        \"samples\": [\n          \"manhattan\",\n          \"euclides\"\n        ],\n        \"semantic_type\": \"\",\n        \"description\": \"\"\n      }\n    },\n    {\n      \"column\": \"mean_accuracy\",\n      \"properties\": {\n        \"dtype\": \"number\",\n        \"std\": 0.16499158227686106,\n        \"min\": 0.7333333333333333,\n        \"max\": 0.9666666666666666,\n        \"num_unique_values\": 2,\n        \"samples\": [\n          0.9666666666666666,\n          0.7333333333333333\n        ],\n        \"semantic_type\": \"\",\n        \"description\": \"\"\n      }\n    },\n    {\n      \"column\": \"std_accuracy\",\n      \"properties\": {\n        \"dtype\": \"number\",\n        \"std\": 0.22368135075894013,\n        \"min\": 0.1,\n        \"max\": 0.41633319989322654,\n        \"num_unique_values\": 2,\n        \"samples\": [\n          0.1,\n          0.41633319989322654\n        ],\n        \"semantic_type\": \"\",\n        \"description\": \"\"\n      }\n    }\n  ]\n}"
            }
          },
          "metadata": {},
          "execution_count": 273
        }
      ]
    },
    {
      "cell_type": "markdown",
      "source": [
        "O que podemos concluir da comparação entre as distâncias de Euclides e Manhattan, é que quando variamos o número de \"k_vizinhos\" para cada distância, o modelo nos da uma acurácia diferente onde não temos uma certeza de qual é melhor que o outro, por conta da forma que o cálculo é feito.\n",
        "\n",
        "Quando aumentamos o número de vizinhos, a distância euclidiana **considerará mais pontos distantes** por conta da sua fórmula, entretanto, a de Manhattan faz isso de outra forma pelo somatório dos módulos, considerando menos pontos."
      ],
      "metadata": {
        "id": "eGhn4ou_M6S_"
      }
    },
    {
      "cell_type": "markdown",
      "source": [
        "# Código 2)"
      ],
      "metadata": {
        "id": "QuSMzQLpPx1V"
      }
    },
    {
      "cell_type": "code",
      "source": [
        "def load_dataset(dataset = 'local'):\n",
        "  if dataset == 'local':\n",
        "    return pd.read_csv('titanic.csv')\n",
        "\n",
        "  return sns.load_dataset('titanic')\n",
        "\n",
        "titanic_df = load_dataset('titanic')\n",
        "local_titanic_df = load_dataset()"
      ],
      "metadata": {
        "id": "SHMpSQsnXCeD"
      },
      "execution_count": 274,
      "outputs": []
    },
    {
      "cell_type": "code",
      "source": [
        "def preprocess_titanic_df(df, columns_map):\n",
        "  selected_cols = list(columns_map.values())\n",
        "  df = df[selected_cols].dropna().copy()\n",
        "\n",
        "  sex_col = columns_map['sex']\n",
        "  df[sex_col] = df[sex_col].map({'male': 1, 'female': 0})\n",
        "\n",
        "  return df\n",
        "\n",
        "columns_map_original = {\n",
        "    'survived': 'survived',\n",
        "    'pclass': 'pclass',\n",
        "    'sex': 'sex',\n",
        "    'age': 'age',\n",
        "    'fare': 'fare'\n",
        "}\n",
        "\n",
        "columns_map_local = {\n",
        "    'survived': 'Survived',\n",
        "    'pclass': 'Pclass',\n",
        "    'sex': 'Sex',\n",
        "    'age': 'Age',\n",
        "    'fare': 'Fare'\n",
        "}\n",
        "\n",
        "\n",
        "titanic_df = preprocess_titanic_df(titanic_df, columns_map_original)\n",
        "local_titanic_df = preprocess_titanic_df(local_titanic_df, columns_map_local)"
      ],
      "metadata": {
        "id": "zfxxHNKYRKBH"
      },
      "execution_count": 275,
      "outputs": []
    },
    {
      "cell_type": "code",
      "source": [
        "def extract_and_normalize_features(df, feature_cols, target_col):\n",
        "  X = df[feature_cols].values\n",
        "  y = df[target_col].values\n",
        "\n",
        "  X_normalized = (X - X.mean(axis=0)) / X.std(axis=0)\n",
        "\n",
        "  return X_normalized, y\n",
        "\n",
        "feature_cols_original = ['pclass', 'sex', 'age', 'fare']\n",
        "target_col_original = 'survived'\n",
        "\n",
        "feature_cols_local = ['Pclass', 'Sex', 'Age', 'Fare']\n",
        "target_col_local = 'Survived'\n",
        "\n",
        "X_original, y_original = extract_and_normalize_features(\n",
        "    titanic_df,\n",
        "    feature_cols_original,\n",
        "    target_col_original)\n",
        "\n",
        "X_local, y_local = extract_and_normalize_features(\n",
        "    local_titanic_df,\n",
        "    feature_cols_local,\n",
        "    target_col_local)\n",
        "\n",
        "y_local = y_local.astype(int)"
      ],
      "metadata": {
        "id": "Ymq_mkZXcoEk"
      },
      "execution_count": 276,
      "outputs": []
    },
    {
      "cell_type": "code",
      "source": [
        "def euclidean_distance(x1, x2):\n",
        "  return np.sqrt(np.sum((x1 - x2)**2))"
      ],
      "metadata": {
        "id": "QT-QWrE0YHSQ"
      },
      "execution_count": 277,
      "outputs": []
    },
    {
      "cell_type": "code",
      "source": [
        "def knn_predict(X_train, y_train, x_test, k = 10):\n",
        "  distances = [euclidean_distance(x_test, x_train) for x_train in X_train]\n",
        "  k_indices = np.argsort(distances)[:k]\n",
        "  k_nearest_labels = y_train[k_indices]\n",
        "  counts = np.bincount(k_nearest_labels)\n",
        "  return np.argmax(counts)\n",
        "\n",
        "\n",
        "def k_fold_cross_validation(X, y, k_folds=10, k_neighbors=5):\n",
        "    fold_size = len(X) // k_folds\n",
        "    indices = np.arange(len(X))\n",
        "    np.random.shuffle(indices)\n",
        "\n",
        "    scores = []\n",
        "\n",
        "    for fold in range(k_folds):\n",
        "        start = fold * fold_size\n",
        "        end = (start + fold_size) if fold != k_folds - 1 else len(X)\n",
        "\n",
        "        val_indices = indices[start:end]\n",
        "        train_indices = np.concatenate((indices[:start], indices[end:]))\n",
        "\n",
        "        X_train, y_train = X[train_indices], y[train_indices]\n",
        "        X_val, y_val = X[val_indices], y[val_indices]\n",
        "\n",
        "        correct = 0\n",
        "        for i in range(len(X_val)):\n",
        "            prediction = knn_predict(X_train, y_train, X_val[i], k_neighbors)\n",
        "            if prediction == y_val[i]:\n",
        "                correct += 1\n",
        "\n",
        "        accuracy = correct / len(X_val)\n",
        "        scores.append(accuracy)\n",
        "        print(f\"Fold {fold + 1}: Accuracy = {accuracy:.4f}\")\n",
        "\n",
        "    print(\"Average accuracy:\", np.mean(scores))"
      ],
      "metadata": {
        "id": "0Vw5JfU0YOCk"
      },
      "execution_count": 278,
      "outputs": []
    },
    {
      "cell_type": "code",
      "source": [
        "k_fold_cross_validation(X_original, y_original, k_folds = 10, k_neighbors = 5)"
      ],
      "metadata": {
        "colab": {
          "base_uri": "https://localhost:8080/"
        },
        "id": "Tl_6EGYXRvXJ",
        "outputId": "42980fea-1bbf-46af-fce1-a7a3a0e20db1"
      },
      "execution_count": 279,
      "outputs": [
        {
          "output_type": "stream",
          "name": "stdout",
          "text": [
            "Fold 1: Accuracy = 0.8592\n",
            "Fold 2: Accuracy = 0.8028\n",
            "Fold 3: Accuracy = 0.7042\n",
            "Fold 4: Accuracy = 0.8451\n",
            "Fold 5: Accuracy = 0.7042\n",
            "Fold 6: Accuracy = 0.8451\n",
            "Fold 7: Accuracy = 0.8592\n",
            "Fold 8: Accuracy = 0.8169\n",
            "Fold 9: Accuracy = 0.7746\n",
            "Fold 10: Accuracy = 0.8667\n",
            "Average accuracy: 0.8077934272300469\n"
          ]
        }
      ]
    },
    {
      "cell_type": "code",
      "source": [
        "k_fold_cross_validation(X_local, y_local, k_folds = 10, k_neighbors = 5)"
      ],
      "metadata": {
        "colab": {
          "base_uri": "https://localhost:8080/"
        },
        "id": "B5fkfJQqUrxd",
        "outputId": "e7ec5415-b24c-4aac-f509-3e8060c584a3"
      },
      "execution_count": 280,
      "outputs": [
        {
          "output_type": "stream",
          "name": "stdout",
          "text": [
            "Fold 1: Accuracy = 0.8028\n",
            "Fold 2: Accuracy = 0.7887\n",
            "Fold 3: Accuracy = 0.9155\n",
            "Fold 4: Accuracy = 0.7324\n",
            "Fold 5: Accuracy = 0.8028\n",
            "Fold 6: Accuracy = 0.8451\n",
            "Fold 7: Accuracy = 0.7887\n",
            "Fold 8: Accuracy = 0.9155\n",
            "Fold 9: Accuracy = 0.7606\n",
            "Fold 10: Accuracy = 0.7467\n",
            "Average accuracy: 0.8098779342723004\n"
          ]
        }
      ]
    },
    {
      "cell_type": "markdown",
      "source": [
        "# Código 3)\n",
        "\n",
        "Implementação do KNN do scikit-learn para fazer a comparação com o código 2"
      ],
      "metadata": {
        "id": "VSc6B5wFVdJL"
      }
    },
    {
      "cell_type": "code",
      "source": [
        "import numpy as np\n",
        "\n",
        "class KNNClassifier:\n",
        "    def __init__(self, n_neighbors=5, metric='euclidean'):\n",
        "        self.n_neighbors = n_neighbors\n",
        "        self.metric = metric\n",
        "\n",
        "    def fit(self, X, y):\n",
        "        self.X_train = np.array(X)\n",
        "        self.y_train = np.array(y)\n",
        "\n",
        "    def _compute_distance(self, x1, x2):\n",
        "        if self.metric == 'euclidean':\n",
        "            return np.sqrt(np.sum((x1 - x2) ** 2))\n",
        "        elif self.metric == 'manhattan':\n",
        "            return np.sum(np.abs(x1 - x2))\n",
        "        else:\n",
        "            raise ValueError(\"Distance not supported\")\n",
        "\n",
        "    def predict(self, X):\n",
        "        X = np.array(X)\n",
        "        predictions = []\n",
        "\n",
        "        for x in X:\n",
        "            distances = [self._compute_distance(x, x_train) for x_train in self.X_train]\n",
        "            k_indices = np.argsort(distances)[:self.n_neighbors]\n",
        "            k_nearest_labels = self.y_train[k_indices]\n",
        "\n",
        "            counts = np.bincount(k_nearest_labels)\n",
        "            prediction = np.argmax(counts)\n",
        "            predictions.append(prediction)\n",
        "\n",
        "        return np.array(predictions)"
      ],
      "metadata": {
        "id": "OuVWyr_WaKsd"
      },
      "execution_count": 281,
      "outputs": []
    },
    {
      "cell_type": "code",
      "source": [
        "knn = KNNClassifier(n_neighbors=5, metric='euclidean')\n",
        "knn.fit(X_original, y_original)\n",
        "\n",
        "pred_original = knn.predict(X_original)\n",
        "\n",
        "accuracy_original = np.mean(pred_original == y_original)\n",
        "\n",
        "print(accuracy_original)"
      ],
      "metadata": {
        "colab": {
          "base_uri": "https://localhost:8080/"
        },
        "id": "ucvG1q6jbueP",
        "outputId": "bc1a284e-6be3-42d3-b54e-55223f61a1bf"
      },
      "execution_count": 282,
      "outputs": [
        {
          "output_type": "stream",
          "name": "stdout",
          "text": [
            "0.8683473389355743\n"
          ]
        }
      ]
    },
    {
      "cell_type": "code",
      "source": [
        "knn = KNNClassifier(n_neighbors=5, metric='euclidean')\n",
        "knn.fit(X_local, y_local)\n",
        "\n",
        "pred_local = knn.predict(X_local)\n",
        "\n",
        "accuracy_local = np.mean(pred_local == y_local)\n",
        "\n",
        "print(accuracy_local)"
      ],
      "metadata": {
        "colab": {
          "base_uri": "https://localhost:8080/"
        },
        "id": "Mp44HX35b68L",
        "outputId": "658fc786-da14-430e-c5b8-e320cddb4a01"
      },
      "execution_count": 283,
      "outputs": [
        {
          "output_type": "stream",
          "name": "stdout",
          "text": [
            "0.8683473389355743\n"
          ]
        }
      ]
    }
  ]
}