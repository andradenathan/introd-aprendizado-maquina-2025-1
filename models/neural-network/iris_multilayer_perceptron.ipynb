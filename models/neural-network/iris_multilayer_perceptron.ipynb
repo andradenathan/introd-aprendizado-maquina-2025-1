{
  "nbformat": 4,
  "nbformat_minor": 0,
  "metadata": {
    "colab": {
      "provenance": []
    },
    "kernelspec": {
      "name": "python3",
      "display_name": "Python 3"
    },
    "language_info": {
      "name": "python"
    }
  },
  "cells": [
    {
      "cell_type": "code",
      "execution_count": null,
      "metadata": {
        "id": "qvguptrCjc7r"
      },
      "outputs": [],
      "source": [
        "from sklearn import datasets\n",
        "from sklearn.model_selection import train_test_split, KFold\n",
        "from sklearn.neural_network import MLPClassifier\n",
        "\n",
        "import numpy as np"
      ]
    },
    {
      "cell_type": "code",
      "source": [
        "iris = datasets.load_iris()\n",
        "X = iris.data\n",
        "y = iris.target"
      ],
      "metadata": {
        "id": "MNO9mooGlJcF"
      },
      "execution_count": null,
      "outputs": []
    },
    {
      "cell_type": "code",
      "source": [
        "X_train, X_test, y_train, y_test = train_test_split(\n",
        "    X,\n",
        "    y,\n",
        "    test_size = 0.2,\n",
        "    random_state = 42,\n",
        "    stratify = y)\n",
        "\n",
        "kf = KFold(n_splits = 5, shuffle = True, random_state = 42)\n",
        "\n",
        "functions = [\"logistic\", \"tanh\", \"relu\"]\n",
        "\n",
        "for activation_function in functions:\n",
        "  train_scores = np.array([])\n",
        "  val_scores = np.array([])\n",
        "\n",
        "  fold = 1\n",
        "  print(f\"<-- Activation function: {activation_function} -->\")\n",
        "  for train_index, val_index in kf.split(X_train):\n",
        "    X_train_fold, X_val_fold = X_train[train_index], X_train[val_index]\n",
        "    y_train_fold, y_val_fold = y_train[train_index], y_train[val_index]\n",
        "\n",
        "    mlp = MLPClassifier(\n",
        "        activation = activation_function,\n",
        "        solver = \"sgd\",\n",
        "        random_state = 42,\n",
        "        max_iter = 3000)\n",
        "\n",
        "    mlp.fit(X_train_fold, y_train_fold)\n",
        "\n",
        "    train_score = mlp.score(X_train_fold, y_train_fold)\n",
        "    val_score = mlp.score(X_val_fold, y_val_fold)\n",
        "\n",
        "    train_scores = np.append(train_scores, train_score)\n",
        "    val_scores = np.append(val_scores, val_score)\n",
        "\n",
        "    print(f\"--- Fold: {fold} ---\")\n",
        "    print(f\"Train score: {train_score:.4f} | Validation score: {val_score:.4f}\")\n",
        "\n",
        "    fold += 1\n",
        "\n",
        "  print(\"----\")\n",
        "  print(f\"Mean train score: {np.mean(train_scores):.4f}\")\n",
        "  print(f\"Mean validation score: {np.mean(val_scores):.4f}\")\n",
        "  print(\"\\n\")"
      ],
      "metadata": {
        "colab": {
          "base_uri": "https://localhost:8080/"
        },
        "id": "Eo9uXk7wmY1b",
        "outputId": "7dc38615-5e7c-4b24-dfc1-eef76cba4a98"
      },
      "execution_count": null,
      "outputs": [
        {
          "output_type": "stream",
          "name": "stdout",
          "text": [
            "<-- Activation function: logistic -->\n",
            "--- Fold: 1 ---\n",
            "Train score: 0.9896 | Validation score: 0.9583\n",
            "--- Fold: 2 ---\n",
            "Train score: 0.9688 | Validation score: 1.0000\n",
            "--- Fold: 3 ---\n",
            "Train score: 0.9583 | Validation score: 1.0000\n",
            "--- Fold: 4 ---\n",
            "Train score: 0.9688 | Validation score: 1.0000\n",
            "--- Fold: 5 ---\n",
            "Train score: 0.9792 | Validation score: 0.9167\n",
            "----\n",
            "Mean train score: 0.9729\n",
            "Mean validation score: 0.9750\n",
            "\n",
            "\n",
            "<-- Activation function: tanh -->\n",
            "--- Fold: 1 ---\n",
            "Train score: 0.9792 | Validation score: 0.9583\n",
            "--- Fold: 2 ---\n",
            "Train score: 0.9792 | Validation score: 1.0000\n",
            "--- Fold: 3 ---\n",
            "Train score: 0.9896 | Validation score: 0.9583\n",
            "--- Fold: 4 ---\n",
            "Train score: 0.9688 | Validation score: 1.0000\n",
            "--- Fold: 5 ---\n",
            "Train score: 0.9792 | Validation score: 0.9583\n",
            "----\n",
            "Mean train score: 0.9792\n",
            "Mean validation score: 0.9750\n",
            "\n",
            "\n",
            "<-- Activation function: relu -->\n",
            "--- Fold: 1 ---\n",
            "Train score: 0.9792 | Validation score: 0.9583\n",
            "--- Fold: 2 ---\n",
            "Train score: 0.9792 | Validation score: 1.0000\n",
            "--- Fold: 3 ---\n",
            "Train score: 0.9896 | Validation score: 0.9583\n",
            "--- Fold: 4 ---\n",
            "Train score: 0.9688 | Validation score: 1.0000\n",
            "--- Fold: 5 ---\n",
            "Train score: 0.9792 | Validation score: 0.9167\n",
            "----\n",
            "Mean train score: 0.9792\n",
            "Mean validation score: 0.9667\n",
            "\n",
            "\n"
          ]
        }
      ]
    }
  ]
}